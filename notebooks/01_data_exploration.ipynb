{
 "cells": [
  {
   "cell_type": "markdown",
   "metadata": {},
   "source": [
    "# 01 Data Exploration & Preprocessing\n",
    "\n",
    "This notebook explores the Flickr8k dataset, processes captions, and saves mappings for later use."
   ]
  },
  {
   "cell_type": "code",
   "execution_count": null,
   "metadata": {},
   "outputs": [],
   "source": [
    "import os\n",
    "import matplotlib.pyplot as plt\n",
    "from PIL import Image\n",
    "import json"
   ]
  },
  {
   "cell_type": "markdown",
   "metadata": {},
   "source": [
    "### Load Captions File"
   ]
  },
  {
   "cell_type": "code",
   "execution_count": null,
   "metadata": {},
   "outputs": [],
   "source": [
    "captions_path = \"../data/Flickr8k_text/captions.txt\"\n",
    "with open(captions_path, 'r') as f:\n",
    "    lines = f.readlines()[1:]  # skip header\n",
    "\n",
    "print(\"Total captions:\", len(lines))"
   ]
  },
  {
   "cell_type": "markdown",
   "metadata": {},
   "source": [
    "### Create Mapping: Image → Captions"
   ]
  },
  {
   "cell_type": "code",
   "execution_count": null,
   "metadata": {},
   "outputs": [],
   "source": [
    "mapping = {}\n",
    "for line in lines:\n",
    "    parts = line.strip().split(',')\n",
    "    image_id = parts[0].split('.')[0]\n",
    "    caption = \" \".join(parts[1:])\n",
    "    mapping.setdefault(image_id, []).append(caption)\n",
    "\n",
    "print(\"Sample Image ID:\", list(mapping.keys())[0])\n",
    "print(\"Captions:\", mapping[list(mapping.keys())[0]])"
   ]
  },
  {
   "cell_type": "markdown",
   "metadata": {},
   "source": [
    "### Visualize a Sample Image"
   ]
  },
  {
   "cell_type": "code",
   "execution_count": null,
   "metadata": {},
   "outputs": [],
   "source": [
    "sample_img = \"../data/Flickr8k_Dataset/Images/1000268201_693b08cb0e.jpg\"\n",
    "img = Image.open(sample_img)\n",
    "plt.imshow(img)\n",
    "plt.title(\"Example Image\")\n",
    "plt.axis('off')\n",
    "plt.show()"
   ]
  },
  {
   "cell_type": "markdown",
   "metadata": {},
   "source": [
    "### Save Mapping for Later Use"
   ]
  },
  {
   "cell_type": "code",
   "execution_count": null,
   "metadata": {},
   "outputs": [],
   "source": [
    "with open(\"../data/Flickr8k_text/captions_mapping.json\", \"w\") as f:\n",
    "    json.dump(mapping, f)\n",
    "print(\"Mapping saved to captions_mapping.json\")"
   ]
  }
 ],
 "metadata": {
  "kernelspec": {
   "display_name": "Python 3",
   "language": "python",
   "name": "python3"
  },
  "language_info": {
   "name": "python",
   "version": "3.10"
  }
 },
 "nbformat": 4,
 "nbformat_minor": 5
}
