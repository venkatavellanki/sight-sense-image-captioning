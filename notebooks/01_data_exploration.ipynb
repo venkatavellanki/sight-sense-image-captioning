# 01 Data Exploration & Preprocessing

### 1. Import Libraries
```python
import os
import pandas as pd
import matplotlib.pyplot as plt
import seaborn as sns
from PIL import Image
import json

captions_path = "../data/Flickr8k_text/captions.txt"
with open(captions_path, 'r') as f:
    lines = f.readlines()[1:]  # skip header

print("Total captions:", len(lines))

mapping = {}
for line in lines:
    parts = line.strip().split(',')
    image_id = parts[0].split('.')[0]
    caption = " ".join(parts[1:])
    mapping.setdefault(image_id, []).append(caption)

print("Sample Image ID:", list(mapping.keys())[0])
print("Captions:", mapping[list(mapping.keys())[0]])

sample_img = "../data/Flickr8k_Dataset/Images/1000268201_693b08cb0e.jpg"
img = Image.open(sample_img)
plt.imshow(img)
plt.title("Example Image")
plt.axis('off')
plt.show()

with open("../data/Flickr8k_text/captions_mapping.json", "w") as f:
    json.dump(mapping, f)
