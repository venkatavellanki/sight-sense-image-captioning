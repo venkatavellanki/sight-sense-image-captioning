{
 "cells": [
  {
   "cell_type": "markdown",
   "metadata": {},
   "source": [
    "# 03 Evaluation\n",
    "\n",
    "Evaluate the trained image captioning model using BLEU scores."
   ]
  },
  {
   "cell_type": "code",
   "execution_count": null,
   "metadata": {},
   "outputs": [],
   "source": [
    "import numpy as np\n",
    "import pickle\n",
    "from tensorflow.keras.models import load_model\n",
    "from tensorflow.keras.preprocessing.sequence import pad_sequences\n",
    "from nltk.translate.bleu_score import corpus_bleu\n",
    "\n",
    "# Load tokenizer, mapping, features, and model\n",
    "with open('../data/Flickr8k_text/mapping.pkl', 'rb') as f:\n",
    "    mapping = pickle.load(f)\n",
    "\n",
    "with open('../data/Flickr8k_text/features.pkl', 'rb') as f:\n",
    "    features = pickle.load(f)\n",
    "\n",
    "with open('../data/Flickr8k_text/tokenizer.pkl', 'rb') as f:\n",
    "    tokenizer = pickle.load(f)\n",
    "\n",
    "model = load_model('../models/decoder/caption_model.h5')\n",
    "\n",
    "vocab_size = len(tokenizer.word_index) + 1\n",
    "max_length = max(len(caption.split()) for captions in mapping.values() for caption in captions)"
   ]
  },
  {
   "cell_type": "markdown",
   "metadata": {},
   "source": [
    "### Helper Functions"
   ]
  },
  {
   "cell_type": "code",
   "execution_count": null,
   "metadata": {},
   "outputs": [],
   "source": [
    "def idx_to_word(integer, tokenizer):\n",
    "    return tokenizer.index_word.get(integer)\n",
    "\n",
    "def generate_caption(model, tokenizer, photo, max_length):\n",
    "    in_text = 'startseq'\n",
    "    for _ in range(max_length):\n",
    "        sequence = tokenizer.texts_to_sequences([in_text])[0]\n",
    "        sequence = pad_sequences([sequence], maxlen=max_length)\n",
    "        yhat = model.predict([photo, sequence], verbose=0)\n",
    "        yhat = np.argmax(yhat)\n",
    "        word = idx_to_word(yhat, tokenizer)\n",
    "        if word is None:\n",
    "            break\n",
    "        in_text += ' ' + word\n",
    "        if word == 'endseq':\n",
    "            break\n",
    "    return in_text"
   ]
  },
  {
   "cell_type": "markdown",
   "metadata": {},
   "source": [
    "### Evaluate BLEU Scores"
   ]
  },
  {
   "cell_type": "code",
   "execution_count": null,
   "metadata": {},
   "outputs": [],
   "source": [
    "actual, predicted = [], []\n",
    "test = list(mapping.keys())[6000:8000]\n",
    "\n",
    "for key in test:\n",
    "    y_pred = generate_caption(model, tokenizer, features[key], max_length)\n",
    "    references = [caption.split() for caption in mapping[key]]\n",
    "    actual.append(references)\n",
    "    predicted.append(y_pred.split())\n",
    "\n",
    "bleu1 = corpus_bleu(actual, predicted, weights=(1.0, 0, 0, 0))\n",
    "bleu2 = corpus_bleu(actual, predicted, weights=(0.5, 0.5, 0, 0))\n",
    "bleu3 = corpus_bleu(actual, predicted, weights=(0.33, 0.33, 0.33, 0))\n",
    "\n",
    "print(f\"BLEU-1: {bleu1:.3f}\")\n",
    "print(f\"BLEU-2: {bleu2:.3f}\")\n",
    "print(f\"BLEU-3: {bleu3:.3f}\")"
   ]
  }
 ],
 "metadata": {
  "kernelspec": {
   "display_name": "Python 3",
   "language": "python",
   "name": "python3"
  },
  "language_info": {
   "name": "python",
   "version": "3.10"
  }
 },
 "nbformat": 4,
 "nbformat_minor": 5
}
